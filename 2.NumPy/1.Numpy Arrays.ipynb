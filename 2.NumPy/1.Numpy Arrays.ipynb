{
 "cells": [
  {
   "cell_type": "markdown",
   "id": "0ddc8633",
   "metadata": {},
   "source": [
    "# NumPy Arrays"
   ]
  },
  {
   "cell_type": "code",
   "execution_count": 1,
   "id": "31e60e23",
   "metadata": {},
   "outputs": [],
   "source": [
    "my_list = [1,2,3]"
   ]
  },
  {
   "cell_type": "code",
   "execution_count": 2,
   "id": "6014f91d",
   "metadata": {},
   "outputs": [
    {
     "data": {
      "text/plain": [
       "[1, 2, 3]"
      ]
     },
     "execution_count": 2,
     "metadata": {},
     "output_type": "execute_result"
    }
   ],
   "source": [
    "my_list"
   ]
  },
  {
   "cell_type": "code",
   "execution_count": 3,
   "id": "2e00e66c",
   "metadata": {},
   "outputs": [],
   "source": [
    "import numpy as np"
   ]
  },
  {
   "cell_type": "code",
   "execution_count": 5,
   "id": "1e39e8e0",
   "metadata": {},
   "outputs": [],
   "source": [
    "arr = np.array(my_list)"
   ]
  },
  {
   "cell_type": "code",
   "execution_count": 6,
   "id": "9c87bdc4",
   "metadata": {},
   "outputs": [
    {
     "data": {
      "text/plain": [
       "array([1, 2, 3])"
      ]
     },
     "execution_count": 6,
     "metadata": {},
     "output_type": "execute_result"
    }
   ],
   "source": [
    "arr"
   ]
  },
  {
   "cell_type": "code",
   "execution_count": 7,
   "id": "59cf3c5b",
   "metadata": {},
   "outputs": [],
   "source": [
    "# MATIX\n",
    "# WE NEED TO CAST THE LIST OF LIST"
   ]
  },
  {
   "cell_type": "code",
   "execution_count": 8,
   "id": "2ec77c5f",
   "metadata": {},
   "outputs": [],
   "source": [
    "my_mat = [[1,2,3],[4,5,6],[7,8,9]]"
   ]
  },
  {
   "cell_type": "code",
   "execution_count": 10,
   "id": "0046004d",
   "metadata": {},
   "outputs": [
    {
     "data": {
      "text/plain": [
       "array([[1, 2, 3],\n",
       "       [4, 5, 6],\n",
       "       [7, 8, 9]])"
      ]
     },
     "execution_count": 10,
     "metadata": {},
     "output_type": "execute_result"
    }
   ],
   "source": [
    "# Now we will get the 2D array\n",
    "np.array(my_mat)"
   ]
  },
  {
   "cell_type": "markdown",
   "id": "5c05de57",
   "metadata": {},
   "source": [
    "# # arange() Function"
   ]
  },
  {
   "cell_type": "code",
   "execution_count": 11,
   "id": "0107860a",
   "metadata": {},
   "outputs": [
    {
     "data": {
      "text/plain": [
       "array([0, 1, 2, 3, 4, 5, 6, 7, 8, 9])"
      ]
     },
     "execution_count": 11,
     "metadata": {},
     "output_type": "execute_result"
    }
   ],
   "source": [
    "# arange(start,end,step_size)\n",
    "np.arange(0,10)"
   ]
  },
  {
   "cell_type": "code",
   "execution_count": 12,
   "id": "d83584a4",
   "metadata": {},
   "outputs": [
    {
     "data": {
      "text/plain": [
       "array([ 0,  1,  2,  3,  4,  5,  6,  7,  8,  9, 10])"
      ]
     },
     "execution_count": 12,
     "metadata": {},
     "output_type": "execute_result"
    }
   ],
   "source": [
    "np.arange(0,11)"
   ]
  },
  {
   "cell_type": "code",
   "execution_count": 13,
   "id": "7e4914b5",
   "metadata": {},
   "outputs": [
    {
     "data": {
      "text/plain": [
       "array([ 0,  2,  4,  6,  8, 10])"
      ]
     },
     "execution_count": 13,
     "metadata": {},
     "output_type": "execute_result"
    }
   ],
   "source": [
    "np.arange(0,11,2)"
   ]
  },
  {
   "cell_type": "markdown",
   "id": "3ea942aa",
   "metadata": {},
   "source": [
    "# # zeros() Function"
   ]
  },
  {
   "cell_type": "markdown",
   "id": "3b511261",
   "metadata": {},
   "source": [
    "To generate the arrays of all zeros"
   ]
  },
  {
   "cell_type": "code",
   "execution_count": 14,
   "id": "1fdfae11",
   "metadata": {},
   "outputs": [
    {
     "data": {
      "text/plain": [
       "array([0., 0., 0.])"
      ]
     },
     "execution_count": 14,
     "metadata": {},
     "output_type": "execute_result"
    }
   ],
   "source": [
    "# 1D vector/ array\n",
    "np.zeros(3)"
   ]
  },
  {
   "cell_type": "code",
   "execution_count": 15,
   "id": "3855698d",
   "metadata": {},
   "outputs": [
    {
     "data": {
      "text/plain": [
       "array([[0., 0., 0., 0., 0.],\n",
       "       [0., 0., 0., 0., 0.],\n",
       "       [0., 0., 0., 0., 0.],\n",
       "       [0., 0., 0., 0., 0.],\n",
       "       [0., 0., 0., 0., 0.]])"
      ]
     },
     "execution_count": 15,
     "metadata": {},
     "output_type": "execute_result"
    }
   ],
   "source": [
    "# Passing tuple generates 2D arrays (rows, columns)\n",
    "np.zeros((5,5))"
   ]
  },
  {
   "cell_type": "markdown",
   "id": "2575874e",
   "metadata": {},
   "source": [
    "# # ones() Function"
   ]
  },
  {
   "cell_type": "markdown",
   "id": "f2d93e83",
   "metadata": {},
   "source": [
    "To generate the arrays of all ones"
   ]
  },
  {
   "cell_type": "code",
   "execution_count": 16,
   "id": "7df2d110",
   "metadata": {},
   "outputs": [
    {
     "data": {
      "text/plain": [
       "array([1., 1., 1., 1.])"
      ]
     },
     "execution_count": 16,
     "metadata": {},
     "output_type": "execute_result"
    }
   ],
   "source": [
    "np.ones(4)"
   ]
  },
  {
   "cell_type": "code",
   "execution_count": 17,
   "id": "d610976d",
   "metadata": {},
   "outputs": [
    {
     "data": {
      "text/plain": [
       "array([[1., 1., 1.],\n",
       "       [1., 1., 1.]])"
      ]
     },
     "execution_count": 17,
     "metadata": {},
     "output_type": "execute_result"
    }
   ],
   "source": [
    "np.ones((2,3))"
   ]
  },
  {
   "cell_type": "markdown",
   "id": "01f73cd9",
   "metadata": {},
   "source": [
    "# # linspace() Function"
   ]
  },
  {
   "cell_type": "markdown",
   "id": "8f8ad067",
   "metadata": {},
   "source": [
    "To generate the number of equally spaced points"
   ]
  },
  {
   "cell_type": "code",
   "execution_count": 24,
   "id": "d3a9504d",
   "metadata": {},
   "outputs": [
    {
     "data": {
      "text/plain": [
       "array([ 0. ,  2.5,  5. ,  7.5, 10. ])"
      ]
     },
     "execution_count": 24,
     "metadata": {},
     "output_type": "execute_result"
    }
   ],
   "source": [
    "# To generate the range from 0 to 10 equally spaced by 5\n",
    "np.linspace(0,10,5)"
   ]
  },
  {
   "cell_type": "code",
   "execution_count": 25,
   "id": "f862c663",
   "metadata": {},
   "outputs": [
    {
     "data": {
      "text/plain": [
       "array([ 0.        ,  1.11111111,  2.22222222,  3.33333333,  4.44444444,\n",
       "        5.55555556,  6.66666667,  7.77777778,  8.88888889, 10.        ])"
      ]
     },
     "execution_count": 25,
     "metadata": {},
     "output_type": "execute_result"
    }
   ],
   "source": [
    "np.linspace(0,10,10)"
   ]
  },
  {
   "cell_type": "markdown",
   "id": "5cd690db",
   "metadata": {},
   "source": [
    "# # Identity Matrix"
   ]
  },
  {
   "cell_type": "markdown",
   "id": "f3ceb378",
   "metadata": {},
   "source": [
    "2D arrays square matrix with diagonals equals to 1"
   ]
  },
  {
   "cell_type": "code",
   "execution_count": 26,
   "id": "c057029c",
   "metadata": {},
   "outputs": [
    {
     "data": {
      "text/plain": [
       "array([[1., 0., 0., 0.],\n",
       "       [0., 1., 0., 0.],\n",
       "       [0., 0., 1., 0.],\n",
       "       [0., 0., 0., 1.]])"
      ]
     },
     "execution_count": 26,
     "metadata": {},
     "output_type": "execute_result"
    }
   ],
   "source": [
    "np.eye(4)"
   ]
  },
  {
   "cell_type": "markdown",
   "id": "99582715",
   "metadata": {},
   "source": [
    "# # random() function"
   ]
  },
  {
   "cell_type": "markdown",
   "id": "c2ebbe37",
   "metadata": {},
   "source": [
    "random.rand() will return the number from uniform distribution i.e., 0 to 1"
   ]
  },
  {
   "cell_type": "code",
   "execution_count": 30,
   "id": "d7c02484",
   "metadata": {},
   "outputs": [
    {
     "data": {
      "text/plain": [
       "array([0.77160505, 0.65395683, 0.29462158, 0.73358008, 0.06706205,\n",
       "       0.42220768, 0.26800352, 0.12327838, 0.24736207, 0.73154878])"
      ]
     },
     "execution_count": 30,
     "metadata": {},
     "output_type": "execute_result"
    }
   ],
   "source": [
    "np.random.rand(10)"
   ]
  },
  {
   "cell_type": "code",
   "execution_count": 31,
   "id": "206828ca",
   "metadata": {},
   "outputs": [
    {
     "data": {
      "text/plain": [
       "array([0.71440362, 0.20967115, 0.5202398 , 0.25089376, 0.91441389])"
      ]
     },
     "execution_count": 31,
     "metadata": {},
     "output_type": "execute_result"
    }
   ],
   "source": [
    "np.random.rand(5)"
   ]
  },
  {
   "cell_type": "code",
   "execution_count": 33,
   "id": "b0741240",
   "metadata": {},
   "outputs": [
    {
     "data": {
      "text/plain": [
       "array([[0.36250267, 0.67633209, 0.30577025, 0.73846132, 0.57582015],\n",
       "       [0.46743627, 0.20139683, 0.98719942, 0.79165293, 0.79050131],\n",
       "       [0.44277587, 0.65628213, 0.61480863, 0.21106991, 0.49098312],\n",
       "       [0.37283815, 0.17136757, 0.55929981, 0.43586406, 0.02839704],\n",
       "       [0.30467531, 0.46265803, 0.73405141, 0.48097858, 0.68748743]])"
      ]
     },
     "execution_count": 33,
     "metadata": {},
     "output_type": "execute_result"
    }
   ],
   "source": [
    "# 2D array\n",
    "np.random.rand(5,5)"
   ]
  },
  {
   "cell_type": "markdown",
   "id": "d4178479",
   "metadata": {},
   "source": [
    "random.randn() will return the number from standard noraml distribution centering around zero"
   ]
  },
  {
   "cell_type": "code",
   "execution_count": 35,
   "id": "6234589c",
   "metadata": {},
   "outputs": [
    {
     "data": {
      "text/plain": [
       "array([ 0.74941378,  0.60598347, -0.13626759, -0.1329039 ])"
      ]
     },
     "execution_count": 35,
     "metadata": {},
     "output_type": "execute_result"
    }
   ],
   "source": [
    "np.random.randn(4)"
   ]
  },
  {
   "cell_type": "code",
   "execution_count": 36,
   "id": "67677eb7",
   "metadata": {},
   "outputs": [
    {
     "data": {
      "text/plain": [
       "array([[-0.15884695, -0.3606564 ,  0.30886346,  0.65128327],\n",
       "       [ 0.26476799,  0.06579298, -1.49795798,  1.13908905],\n",
       "       [ 0.07315146,  0.47585217,  1.4718479 ,  1.04211986],\n",
       "       [ 2.94262014,  1.0380068 ,  0.13121136,  0.31231122]])"
      ]
     },
     "execution_count": 36,
     "metadata": {},
     "output_type": "execute_result"
    }
   ],
   "source": [
    "np.random.randn(4,4)"
   ]
  },
  {
   "cell_type": "markdown",
   "id": "82b9c917",
   "metadata": {},
   "source": [
    "random.randint() will return the single ar array of integer"
   ]
  },
  {
   "cell_type": "code",
   "execution_count": 39,
   "id": "c39ed5ff",
   "metadata": {},
   "outputs": [
    {
     "data": {
      "text/plain": [
       "21"
      ]
     },
     "execution_count": 39,
     "metadata": {},
     "output_type": "execute_result"
    }
   ],
   "source": [
    "np.random.randint(1,100)"
   ]
  },
  {
   "cell_type": "code",
   "execution_count": 40,
   "id": "2ce17bb0",
   "metadata": {},
   "outputs": [
    {
     "data": {
      "text/plain": [
       "array([55, 75, 39, 86, 92, 85, 69, 97, 12, 65])"
      ]
     },
     "execution_count": 40,
     "metadata": {},
     "output_type": "execute_result"
    }
   ],
   "source": [
    "# This will return the 10 array list within the range 1 to 100\n",
    "np.random.randint(1,100,10)"
   ]
  },
  {
   "cell_type": "markdown",
   "id": "a520e7bf",
   "metadata": {},
   "source": [
    "# # Attributes and method of Arrays"
   ]
  },
  {
   "cell_type": "code",
   "execution_count": 41,
   "id": "14a25782",
   "metadata": {},
   "outputs": [],
   "source": [
    "arr = np.arange(25)"
   ]
  },
  {
   "cell_type": "code",
   "execution_count": 42,
   "id": "bda21e55",
   "metadata": {},
   "outputs": [
    {
     "data": {
      "text/plain": [
       "array([ 0,  1,  2,  3,  4,  5,  6,  7,  8,  9, 10, 11, 12, 13, 14, 15, 16,\n",
       "       17, 18, 19, 20, 21, 22, 23, 24])"
      ]
     },
     "execution_count": 42,
     "metadata": {},
     "output_type": "execute_result"
    }
   ],
   "source": [
    "arr\n"
   ]
  },
  {
   "cell_type": "code",
   "execution_count": 43,
   "id": "0dc049c0",
   "metadata": {},
   "outputs": [],
   "source": [
    "ranarr = np.random.randint(0,50,10)"
   ]
  },
  {
   "cell_type": "code",
   "execution_count": 44,
   "id": "cdb11b88",
   "metadata": {},
   "outputs": [
    {
     "data": {
      "text/plain": [
       "array([48,  6,  3, 35, 17, 45, 21,  3, 33, 31])"
      ]
     },
     "execution_count": 44,
     "metadata": {},
     "output_type": "execute_result"
    }
   ],
   "source": [
    "ranarr"
   ]
  },
  {
   "cell_type": "markdown",
   "id": "e0a6c944",
   "metadata": {},
   "source": [
    "# ## reshape() method"
   ]
  },
  {
   "cell_type": "markdown",
   "id": "6233ce42",
   "metadata": {},
   "source": [
    "returns an array containing the same data of a new shape"
   ]
  },
  {
   "cell_type": "code",
   "execution_count": 45,
   "id": "627b5607",
   "metadata": {},
   "outputs": [
    {
     "data": {
      "text/plain": [
       "array([[ 0,  1,  2,  3,  4],\n",
       "       [ 5,  6,  7,  8,  9],\n",
       "       [10, 11, 12, 13, 14],\n",
       "       [15, 16, 17, 18, 19],\n",
       "       [20, 21, 22, 23, 24]])"
      ]
     },
     "execution_count": 45,
     "metadata": {},
     "output_type": "execute_result"
    }
   ],
   "source": [
    "arr.reshape(5,5)"
   ]
  },
  {
   "cell_type": "code",
   "execution_count": 46,
   "id": "a05ede0d",
   "metadata": {},
   "outputs": [],
   "source": [
    "# Note:~ We can fill up only with the digit we have.\n",
    "# Since arr contains 25 elements, we we could reshape it to 5*5 array\n",
    "# EXAMPLE:~ ERROR CODE\n",
    "# arr.reshape(5,6)"
   ]
  },
  {
   "cell_type": "code",
   "execution_count": 48,
   "id": "28f0e2ef",
   "metadata": {},
   "outputs": [
    {
     "data": {
      "text/plain": [
       "array([48,  6,  3, 35, 17, 45, 21,  3, 33, 31])"
      ]
     },
     "execution_count": 48,
     "metadata": {},
     "output_type": "execute_result"
    }
   ],
   "source": [
    "ranarr"
   ]
  },
  {
   "cell_type": "markdown",
   "id": "dca8b301",
   "metadata": {},
   "source": [
    "# ## max() and min() method"
   ]
  },
  {
   "cell_type": "markdown",
   "id": "0ac5ebd5",
   "metadata": {},
   "source": [
    "max() will return the maximum element in an array"
   ]
  },
  {
   "cell_type": "code",
   "execution_count": 50,
   "id": "c12ee9e4",
   "metadata": {},
   "outputs": [
    {
     "data": {
      "text/plain": [
       "48"
      ]
     },
     "execution_count": 50,
     "metadata": {},
     "output_type": "execute_result"
    }
   ],
   "source": [
    "ranarr.max()"
   ]
  },
  {
   "cell_type": "code",
   "execution_count": 51,
   "id": "deb60b0c",
   "metadata": {},
   "outputs": [
    {
     "data": {
      "text/plain": [
       "3"
      ]
     },
     "execution_count": 51,
     "metadata": {},
     "output_type": "execute_result"
    }
   ],
   "source": [
    "ranarr.min()"
   ]
  },
  {
   "cell_type": "markdown",
   "id": "aa909fc0",
   "metadata": {},
   "source": [
    "# ## argmax() and argmin() method"
   ]
  },
  {
   "cell_type": "markdown",
   "id": "3094b1b1",
   "metadata": {},
   "source": [
    "Returns the index of the max and min value"
   ]
  },
  {
   "cell_type": "code",
   "execution_count": 52,
   "id": "7f47ff97",
   "metadata": {},
   "outputs": [
    {
     "data": {
      "text/plain": [
       "2"
      ]
     },
     "execution_count": 52,
     "metadata": {},
     "output_type": "execute_result"
    }
   ],
   "source": [
    "ranarr.argmin()"
   ]
  },
  {
   "cell_type": "code",
   "execution_count": 53,
   "id": "a0e67407",
   "metadata": {},
   "outputs": [
    {
     "data": {
      "text/plain": [
       "0"
      ]
     },
     "execution_count": 53,
     "metadata": {},
     "output_type": "execute_result"
    }
   ],
   "source": [
    "ranarr.argmax()"
   ]
  },
  {
   "cell_type": "markdown",
   "id": "ff349e3a",
   "metadata": {},
   "source": [
    "# ## shape() method"
   ]
  },
  {
   "cell_type": "markdown",
   "id": "8103b88d",
   "metadata": {},
   "source": [
    "Returns the shape of the vector"
   ]
  },
  {
   "cell_type": "code",
   "execution_count": 54,
   "id": "dedab886",
   "metadata": {},
   "outputs": [
    {
     "data": {
      "text/plain": [
       "(25,)"
      ]
     },
     "execution_count": 54,
     "metadata": {},
     "output_type": "execute_result"
    }
   ],
   "source": [
    "# (25,) indicates that it's a 1D array/vector\n",
    "arr.shape"
   ]
  },
  {
   "cell_type": "code",
   "execution_count": 55,
   "id": "d134d974",
   "metadata": {},
   "outputs": [],
   "source": [
    "arr = arr.reshape(5,5)"
   ]
  },
  {
   "cell_type": "code",
   "execution_count": 56,
   "id": "53c5a327",
   "metadata": {},
   "outputs": [
    {
     "data": {
      "text/plain": [
       "(5, 5)"
      ]
     },
     "execution_count": 56,
     "metadata": {},
     "output_type": "execute_result"
    }
   ],
   "source": [
    "arr.shape"
   ]
  },
  {
   "cell_type": "markdown",
   "id": "5013ea43",
   "metadata": {},
   "source": [
    "# ## Data type in an array"
   ]
  },
  {
   "cell_type": "code",
   "execution_count": 57,
   "id": "b9f84c43",
   "metadata": {},
   "outputs": [
    {
     "data": {
      "text/plain": [
       "dtype('int32')"
      ]
     },
     "execution_count": 57,
     "metadata": {},
     "output_type": "execute_result"
    }
   ],
   "source": [
    "arr.dtype"
   ]
  },
  {
   "cell_type": "markdown",
   "id": "86ba16cf",
   "metadata": {},
   "source": [
    "Alternative way of writing random.randint() method"
   ]
  },
  {
   "cell_type": "code",
   "execution_count": 58,
   "id": "db4820e8",
   "metadata": {},
   "outputs": [],
   "source": [
    "from numpy.random import randint"
   ]
  },
  {
   "cell_type": "code",
   "execution_count": 59,
   "id": "650efbb1",
   "metadata": {},
   "outputs": [
    {
     "data": {
      "text/plain": [
       "5"
      ]
     },
     "execution_count": 59,
     "metadata": {},
     "output_type": "execute_result"
    }
   ],
   "source": [
    "randint(2,10)"
   ]
  },
  {
   "cell_type": "code",
   "execution_count": null,
   "id": "18fd2cb1",
   "metadata": {},
   "outputs": [],
   "source": []
  }
 ],
 "metadata": {
  "kernelspec": {
   "display_name": "Python 3 (ipykernel)",
   "language": "python",
   "name": "python3"
  },
  "language_info": {
   "codemirror_mode": {
    "name": "ipython",
    "version": 3
   },
   "file_extension": ".py",
   "mimetype": "text/x-python",
   "name": "python",
   "nbconvert_exporter": "python",
   "pygments_lexer": "ipython3",
   "version": "3.9.13"
  }
 },
 "nbformat": 4,
 "nbformat_minor": 5
}
